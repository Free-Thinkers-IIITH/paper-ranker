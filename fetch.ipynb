{
 "cells": [
  {
   "cell_type": "code",
   "execution_count": 1,
   "id": "e2591c4b",
   "metadata": {},
   "outputs": [],
   "source": [
    "import urllib.request, json\n",
    "import json\n",
    "\n",
    "def fetch(q,h):\n",
    "    url = \"https://dblp.org/search/publ/api\" \n",
    "    params = { \n",
    "        \"q\": q,\n",
    "        \"h\": h,\n",
    "        \"format\": \"json\" \n",
    "    }     \n",
    "    query_string = urllib.parse.urlencode( params ) \n",
    "    url = url + \"?\" + query_string \n",
    "\n",
    "    with urllib.request.urlopen(url) as url_:\n",
    "        data = json.loads(url_.read().decode())\n",
    "        f = open('data/'+q+'.json','w')\n",
    "        json.dump(data, f)\n",
    "        f.close()"
   ]
  },
  {
   "cell_type": "code",
   "execution_count": 14,
   "id": "d41c7afe",
   "metadata": {},
   "outputs": [],
   "source": [
    "# q = topic\n",
    "# h = number of hits\n",
    "fetch('machine learning',30)"
   ]
  },
  {
   "cell_type": "code",
   "execution_count": 15,
   "id": "4235e5d4",
   "metadata": {},
   "outputs": [],
   "source": [
    "fetch('computer network',30)"
   ]
  },
  {
   "cell_type": "code",
   "execution_count": 16,
   "id": "6d5b02b3",
   "metadata": {},
   "outputs": [],
   "source": [
    "fetch('has',30)"
   ]
  },
  {
   "cell_type": "code",
   "execution_count": null,
   "id": "ff400bc7",
   "metadata": {},
   "outputs": [],
   "source": []
  }
 ],
 "metadata": {
  "kernelspec": {
   "display_name": "Python 3 (ipykernel)",
   "language": "python",
   "name": "python3"
  },
  "language_info": {
   "codemirror_mode": {
    "name": "ipython",
    "version": 3
   },
   "file_extension": ".py",
   "mimetype": "text/x-python",
   "name": "python",
   "nbconvert_exporter": "python",
   "pygments_lexer": "ipython3",
   "version": "3.8.10"
  }
 },
 "nbformat": 4,
 "nbformat_minor": 5
}
