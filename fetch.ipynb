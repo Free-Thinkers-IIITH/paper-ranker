{
 "cells": [
  {
   "cell_type": "code",
   "execution_count": 6,
   "id": "e2591c4b",
   "metadata": {},
   "outputs": [],
   "source": [
    "import urllib.request, json\n",
    "import json\n",
    "\n",
    "def dblp(q,h):\n",
    "    url = \"https://dblp.org/search/publ/api\" \n",
    "    params = { \n",
    "        \"q\": q,\n",
    "        \"h\": h,\n",
    "        \"format\": \"json\" \n",
    "    }     \n",
    "    query_string = urllib.parse.urlencode( params ) \n",
    "    url = url + \"?\" + query_string \n",
    "\n",
    "    with urllib.request.urlopen(url) as url_:\n",
    "        data = json.loads(url_.read().decode())\n",
    "        f = open('data/'+q+'.json','w')\n",
    "        json.dump(data, f)\n",
    "        f.close()"
   ]
  },
  {
   "cell_type": "code",
   "execution_count": 7,
   "id": "d41c7afe",
   "metadata": {},
   "outputs": [],
   "source": [
    "dblp('machine learning',30)"
   ]
  },
  {
   "cell_type": "code",
   "execution_count": 4,
   "id": "6d5b02b3",
   "metadata": {},
   "outputs": [],
   "source": [
    "import urllib.request, json\n",
    "import json\n",
    "\n",
    "def semantic_scholar(q,h):\n",
    "    url = \"http://api.semanticscholar.org/graph/v1/paper/search\" \n",
    "    params = { \n",
    "        \"query\": q,\n",
    "        \"limit\": h,\n",
    "        \"fields\": \"title,authors,venue,year,url\" \n",
    "    }     \n",
    "    query_string = urllib.parse.urlencode( params ) \n",
    "    url = url + \"?\" + query_string \n",
    "\n",
    "    with urllib.request.urlopen(url) as url_:\n",
    "        data = json.loads(url_.read().decode())\n",
    "        f = open('data/ss/'+q+'.json','w')\n",
    "        json.dump(data, f)\n",
    "        f.close()"
   ]
  },
  {
   "cell_type": "code",
   "execution_count": 5,
   "id": "ff400bc7",
   "metadata": {},
   "outputs": [],
   "source": [
    "semantic_scholar('machine learning',30)"
   ]
  },
  {
   "cell_type": "code",
   "execution_count": 8,
   "metadata": {},
   "outputs": [],
   "source": [
    "semantic_scholar('operating system',30)"
   ]
  },
  {
   "cell_type": "code",
   "execution_count": null,
   "metadata": {},
   "outputs": [],
   "source": []
  }
 ],
 "metadata": {
  "interpreter": {
   "hash": "916dbcbb3f70747c44a77c7bcd40155683ae19c65e1c03b4aa3499c5328201f1"
  },
  "kernelspec": {
   "display_name": "Python 3.8.10 64-bit",
   "name": "python3"
  },
  "language_info": {
   "codemirror_mode": {
    "name": "ipython",
    "version": 3
   },
   "file_extension": ".py",
   "mimetype": "text/x-python",
   "name": "python",
   "nbconvert_exporter": "python",
   "pygments_lexer": "ipython3",
   "version": "3.8.10"
  }
 },
 "nbformat": 4,
 "nbformat_minor": 5
}
